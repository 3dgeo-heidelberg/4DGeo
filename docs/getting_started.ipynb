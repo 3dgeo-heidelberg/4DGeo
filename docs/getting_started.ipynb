{
 "cells": [
  {
   "cell_type": "markdown",
   "id": "f78d270e-0241-4a4a-80d8-2a0dd38ffa54",
   "metadata": {},
   "source": [
    "# Easy monitoring example\n",
    "\n",
    "Notebook contributors: Ronald Tabernig, William Albert, July 2025 \n",
    "\n",
    "This notebook demonstrates the data preparation. The dataset contains **6 scans** of a [rockfall area in Trier, Germany](https://www.youtube.com/watch?v=bOp4XN9FM48) captured hourly in the night from 25 August 2024 to 26 August 2024. We've prepared the needed functionality in the [helper functions](../src/fourdgeo/helpers/getting_started.py).\n",
    "\n",
    "To make this work with your own list of point clouds, you simply need to adjust the url and paths when downloading. And make sure the name and timestamp of each file is matching the format defined in the configuration."
   ]
  },
  {
   "cell_type": "markdown",
   "id": "c3ce57fc-d59a-441a-bbcf-1586238437f0",
   "metadata": {},
   "source": [
    "## Imports"
   ]
  },
  {
   "cell_type": "code",
   "execution_count": 1,
   "id": "8be0e651",
   "metadata": {},
   "outputs": [],
   "source": [
    "import sys\n",
    "sys.path.insert(0, \"../src\")\n",
    "from fourdgeo.helpers.getting_started import *"
   ]
  },
  {
   "cell_type": "markdown",
   "id": "625ff4c9",
   "metadata": {},
   "source": [
    "## Get the data"
   ]
  },
  {
   "cell_type": "code",
   "execution_count": 2,
   "id": "ba481409",
   "metadata": {},
   "outputs": [],
   "source": [
    "# Load the rockfall data or use your own data by giving the path to the data folder variable\n",
    "data_folder = download_example_data({\n",
    "    \"data_url\": \"https://heibox.uni-heidelberg.de/f/6c2a4e6755b74d1abad0/?dl=1\",\n",
    "    \"data_hash\": \"77b343183c86cbc3f72e0edbe362cc3219d41e00fcf4389ab650a09a13b1b1ec\",\n",
    "    \"file_name\": \"rockfall_trier.zip\",\n",
    "    \"data_folder\": \"data/rockfall_trier\",\n",
    "})"
   ]
  },
  {
   "cell_type": "markdown",
   "id": "a61b37c0",
   "metadata": {},
   "source": [
    "## Projections\n",
    "### Prepare the configuration file\n",
    "\n",
    "We use a configuration dictionary that contains general project settings like the `output_folder` and the relevant settings for the point cloud projection. For the projection, parameters like the `camera_position` and the `resolution_cm` are essential."
   ]
  },
  {
   "cell_type": "code",
   "execution_count": 3,
   "id": "31918c97",
   "metadata": {},
   "outputs": [],
   "source": [
    "configuration = get_example_configuration()"
   ]
  },
  {
   "cell_type": "markdown",
   "id": "ea860316",
   "metadata": {},
   "source": [
    "### Generate and populate the data model with the input point clouds\n",
    "\n",
    "The final json file is now finished and stored."
   ]
  },
  {
   "cell_type": "code",
   "execution_count": null,
   "id": "bcf1dfa9",
   "metadata": {},
   "outputs": [],
   "source": [
    "list_background_projections = convert_point_cloud_time_series_to_datamodel(data_folder, configuration)"
   ]
  },
  {
   "cell_type": "markdown",
   "id": "86e88dd6",
   "metadata": {},
   "source": [
    "### Visualise the data in the dashboard\n",
    "\n",
    "To see your results in the actual dashboard, we need to host the created json file and images to make them accessbile. As a quick and easy solution, we can use the **http.server** python library. Running the following cell will host your newly converted data and make it available for a dashboard to read it. \n",
    "\n",
    "For example, this [dashboard](https://3dgeo-heidelberg.github.io/4DGeo/dashboard?state=bGF5b3V0PSU1QiU3QiUyMnclMjIlM0EzJTJDJTIyaCUyMiUzQTElMkMlMjJ4JTIyJTNBMCUyQyUyMnklMjIlM0EwJTJDJTIyaSUyMiUzQSUyMkRhdGVSYW5nZVBpY2tlciUyMiUyQyUyMm1pblclMjIlM0EyJTJDJTIybWluSCUyMiUzQTElMkMlMjJtb3ZlZCUyMiUzQWZhbHNlJTJDJTIyc3RhdGljJTIyJTNBZmFsc2UlN0QlMkMlN0IlMjJ3JTIyJTNBOSUyQyUyMmglMjIlM0ExJTJDJTIyeCUyMiUzQTMlMkMlMjJ5JTIyJTNBMCUyQyUyMmklMjIlM0ElMjJTbGlkZXIlMjIlMkMlMjJtaW5XJTIyJTNBMiUyQyUyMm1pbkglMjIlM0ExJTJDJTIybW92ZWQlMjIlM0FmYWxzZSUyQyUyMnN0YXRpYyUyMiUzQWZhbHNlJTdEJTJDJTdCJTIydyUyMiUzQTglMkMlMjJoJTIyJTNBNCUyQyUyMnglMjIlM0E0JTJDJTIyeSUyMiUzQTElMkMlMjJpJTIyJTNBJTIyVmlldzJEJTIyJTJDJTIybWluVyUyMiUzQTQlMkMlMjJtaW5IJTIyJTNBMiUyQyUyMm1vdmVkJTIyJTNBZmFsc2UlMkMlMjJzdGF0aWMlMjIlM0FmYWxzZSU3RCUyQyU3QiUyMnclMjIlM0E0JTJDJTIyaCUyMiUzQTQlMkMlMjJ4JTIyJTNBMCUyQyUyMnklMjIlM0ExJTJDJTIyaSUyMiUzQSUyMkNoYXJ0JTIyJTJDJTIybWluVyUyMiUzQTIlMkMlMjJtaW5IJTIyJTNBMiUyQyUyMm1vdmVkJTIyJTNBZmFsc2UlMkMlMjJzdGF0aWMlMjIlM0FmYWxzZSU3RCU1RCZ1cmw9aHR0cCUzQSUyRiUyRmxvY2FsaG9zdCUzQTgwMDMlMkZvdXQlMkZnZXR0aW5nX3N0YXJ0ZWQlMkZkYXRhX21vZGVsLmpzb24maW50ZXJ2YWw9NjAmdHlwZUNvbG9ycz0lNUIlNUIlMjJ1bmtub3duJTIyJTJDJTIyJTIzZmYwMDAwJTIyJTVEJTVE) reads that data and visualises your images! (This link only works if you didn't change the port number in the configuration)\n",
    "\n",
    "If you want to create your own dashboard, simply set the [data source](https://3dgeo-heidelberg.github.io/4DGeo/docs/Application.html#11-data-source) to `http://localhost:PORT_NUMBER/out/getting_started/data_model.json`."
   ]
  },
  {
   "cell_type": "code",
   "execution_count": null,
   "id": "1679f95d",
   "metadata": {},
   "outputs": [],
   "source": [
    "host_data(configuration)"
   ]
  },
  {
   "cell_type": "markdown",
   "id": "ae86b8d9",
   "metadata": {},
   "source": [
    "### Putting it all together\n",
    "\n",
    "Heres every step in one so you can copy and paste it into your own environment! Remember to also copy the [helper functions](../src/fourdgeo/helpers/getting_started.py)."
   ]
  },
  {
   "cell_type": "code",
   "execution_count": null,
   "id": "29f7e5ef",
   "metadata": {},
   "outputs": [],
   "source": [
    "import sys\n",
    "sys.path.insert(0, \"../src\")\n",
    "from fourdgeo.helpers.getting_started import *\n",
    "\n",
    "data_folder = download_example_data()\n",
    "\n",
    "configuration = get_example_configuration()\n",
    "\n",
    "list_background_projections = convert_point_cloud_time_series_to_datamodel(data_folder, configuration)\n",
    "\n",
    "host_data(configuration)"
   ]
  }
 ],
 "metadata": {
  "kernelspec": {
   "display_name": "Python 3",
   "language": "python",
   "name": "python3"
  },
  "language_info": {
   "codemirror_mode": {
    "name": "ipython",
    "version": 3
   },
   "file_extension": ".py",
   "mimetype": "text/x-python",
   "name": "python",
   "nbconvert_exporter": "python",
   "pygments_lexer": "ipython3",
   "version": "3.13.1"
  },
  "widgets": {
   "application/vnd.jupyter.widget-state+json": {
    "state": {},
    "version_major": 2,
    "version_minor": 0
   }
  }
 },
 "nbformat": 4,
 "nbformat_minor": 5
}
