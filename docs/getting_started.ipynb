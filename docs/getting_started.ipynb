{
 "cells": [
  {
   "cell_type": "markdown",
   "id": "f78d270e-0241-4a4a-80d8-2a0dd38ffa54",
   "metadata": {},
   "source": [
    "# Easy monitoring example\n",
    "\n",
    "Ronald Tabernig, William Albert, Hannah Weiser, July 2025 \n",
    "\n",
    "This notebook demonstrates the data preparation. The dataset contains **6 scans** of a [rockfall area in Trier, Germany](https://www.youtube.com/watch?v=bOp4XN9FM48) captured hourly in the night from 25 August 2024 to 26 August 2024."
   ]
  },
  {
   "cell_type": "markdown",
   "id": "c3ce57fc-d59a-441a-bbcf-1586238437f0",
   "metadata": {},
   "source": [
    "## Imports"
   ]
  },
  {
   "cell_type": "code",
   "execution_count": 1,
   "id": "8be0e651",
   "metadata": {},
   "outputs": [],
   "source": [
    "import sys\n",
    "sys.path.insert(0, \"../src\")\n",
    "from fourdgeo.helpers.getting_started import *"
   ]
  },
  {
   "cell_type": "markdown",
   "id": "625ff4c9",
   "metadata": {},
   "source": [
    "## Get the data"
   ]
  },
  {
   "cell_type": "code",
   "execution_count": 2,
   "id": "ba481409",
   "metadata": {},
   "outputs": [],
   "source": [
    "# Load the rockfall data or use your own data by giving the path to the data folder variable\n",
    "data_folder = download_example_data()"
   ]
  },
  {
   "cell_type": "markdown",
   "id": "a61b37c0",
   "metadata": {},
   "source": [
    "## Projections\n",
    "### Prepare the configuration file\n",
    "\n",
    "We use a configuration dictionary that contains general project settings like the `output_folder` and the relevant settings for the point cloud projection. For the projection, parameters like the `camera_position` and the `resolution_cm` are essential."
   ]
  },
  {
   "cell_type": "code",
   "execution_count": 3,
   "id": "31918c97",
   "metadata": {},
   "outputs": [],
   "source": [
    "configuration = get_example_configuration()"
   ]
  },
  {
   "cell_type": "markdown",
   "id": "ea860316",
   "metadata": {},
   "source": [
    "### Generate and populate the datamodel with the input point clouds"
   ]
  },
  {
   "cell_type": "code",
   "execution_count": 4,
   "id": "bcf1dfa9",
   "metadata": {},
   "outputs": [
    {
     "name": "stderr",
     "output_type": "stream",
     "text": [
      "/home/william/miniconda3/envs/4dgeo/lib/python3.13/site-packages/rasterio/__init__.py:366: NotGeoreferencedWarning: Dataset has no geotransform, gcps, or rpcs. The identity matrix will be returned.\n",
      "  dataset = writer(\n",
      "/home/william/miniconda3/envs/4dgeo/lib/python3.13/site-packages/rasterio/__init__.py:366: NotGeoreferencedWarning: Dataset has no geotransform, gcps, or rpcs. The identity matrix will be returned.\n",
      "  dataset = writer(\n",
      "/home/william/miniconda3/envs/4dgeo/lib/python3.13/site-packages/rasterio/__init__.py:366: NotGeoreferencedWarning: Dataset has no geotransform, gcps, or rpcs. The identity matrix will be returned.\n",
      "  dataset = writer(\n",
      "/home/william/miniconda3/envs/4dgeo/lib/python3.13/site-packages/rasterio/__init__.py:366: NotGeoreferencedWarning: Dataset has no geotransform, gcps, or rpcs. The identity matrix will be returned.\n",
      "  dataset = writer(\n",
      "/home/william/miniconda3/envs/4dgeo/lib/python3.13/site-packages/rasterio/__init__.py:366: NotGeoreferencedWarning: Dataset has no geotransform, gcps, or rpcs. The identity matrix will be returned.\n",
      "  dataset = writer(\n",
      "/home/william/miniconda3/envs/4dgeo/lib/python3.13/site-packages/rasterio/__init__.py:366: NotGeoreferencedWarning: Dataset has no geotransform, gcps, or rpcs. The identity matrix will be returned.\n",
      "  dataset = writer(\n"
     ]
    }
   ],
   "source": [
    "list_background_projections = convert_point_cloud_time_series_to_datamodel(data_folder, configuration)"
   ]
  },
  {
   "cell_type": "markdown",
   "id": "86e88dd6",
   "metadata": {},
   "source": [
    "### Visualise the data in the dashboard\n",
    "\n",
    "To see our results in the actual dashboard, we need to host the created json file to make it accessbile. As a quick and easy solution, we can use the **http.server** python library. The python script `server-host.py` hosts all the files in this directory. So in order to setup this local hosting, we need navigate to the `4DGeo/docs` folder to execute the following command in a commandline:\n",
    "\n",
    "`python server_host.py`\n",
    "\n",
    "Lastly, inside of the dashboard, set the data source to `http://localhost:8001/out/rockfall_monitoring/final_data_model.json`."
   ]
  }
 ],
 "metadata": {
  "kernelspec": {
   "display_name": "4dgeo",
   "language": "python",
   "name": "python3"
  },
  "language_info": {
   "codemirror_mode": {
    "name": "ipython",
    "version": 3
   },
   "file_extension": ".py",
   "mimetype": "text/x-python",
   "name": "python",
   "nbconvert_exporter": "python",
   "pygments_lexer": "ipython3",
   "version": "3.13.5"
  },
  "widgets": {
   "application/vnd.jupyter.widget-state+json": {
    "state": {},
    "version_major": 2,
    "version_minor": 0
   }
  }
 },
 "nbformat": 4,
 "nbformat_minor": 5
}
