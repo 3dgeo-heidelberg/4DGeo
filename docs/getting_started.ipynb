{
 "cells": [
  {
   "cell_type": "markdown",
   "id": "f78d270e-0241-4a4a-80d8-2a0dd38ffa54",
   "metadata": {},
   "source": [
    "# Easy monitoring example\n",
    "\n",
    "Ronald Tabernig, William Albert, Hannah Weiser, July 2025 \n",
    "\n",
    "This notebook demonstrates the data preparation. The dataset contains **6 scans** of a [rockfall area in Trier, Germany](https://www.youtube.com/watch?v=bOp4XN9FM48) captured hourly in the night from 25 August 2024 to 26 August 2024."
   ]
  },
  {
   "cell_type": "markdown",
   "id": "c3ce57fc-d59a-441a-bbcf-1586238437f0",
   "metadata": {},
   "source": [
    "## Imports"
   ]
  },
  {
   "cell_type": "code",
   "execution_count": 6,
   "id": "8be0e651",
   "metadata": {},
   "outputs": [],
   "source": [
    "import sys\n",
    "sys.path.insert(0, \"../src\")\n",
    "from fourdgeo.helpers.getting_started import *"
   ]
  },
  {
   "cell_type": "markdown",
   "id": "625ff4c9",
   "metadata": {},
   "source": [
    "## Get the data"
   ]
  },
  {
   "cell_type": "code",
   "execution_count": 7,
   "id": "ba481409",
   "metadata": {},
   "outputs": [],
   "source": [
    "# Load the rockfall data or use your own data by giving the path to the data folder variable\n",
    "data_folder = download_example_data()"
   ]
  },
  {
   "cell_type": "markdown",
   "id": "a61b37c0",
   "metadata": {},
   "source": [
    "## Projections\n",
    "### Prepare the configuration file\n",
    "\n",
    "We use a configuration dictionary that contains general project settings like the `output_folder` and the relevant settings for the point cloud projection. For the projection, parameters like the `camera_position` and the `resolution_cm` are essential."
   ]
  },
  {
   "cell_type": "code",
   "execution_count": 8,
   "id": "31918c97",
   "metadata": {},
   "outputs": [],
   "source": [
    "configuration = get_example_configuration()"
   ]
  },
  {
   "cell_type": "markdown",
   "id": "ea860316",
   "metadata": {},
   "source": [
    "### Generate and populate the datamodel with the input point clouds"
   ]
  },
  {
   "cell_type": "code",
   "execution_count": null,
   "id": "bcf1dfa9",
   "metadata": {},
   "outputs": [],
   "source": [
    "list_background_projections = convert_point_cloud_time_series_to_datamodel(data_folder, configuration)"
   ]
  },
  {
   "cell_type": "markdown",
   "id": "86e88dd6",
   "metadata": {},
   "source": [
    "### Visualise the data in the dashboard\n",
    "\n",
    "To see our results in the actual dashboard, we need to host the created json file to make it accessbile. As a quick and easy solution, we can use the **http.server** python library.\n",
    "\n",
    "Then, inside of the dashboard, set the data source to `http://localhost:PORT_NUMBER/out/getting_started/data_model.json`.\n",
    "\n",
    "If you quickly want to open a predesigned dashboard, you can open this [link](https://3dgeo-heidelberg.github.io/4DGeo/dashboard?layout=%5B%7B%22w%22%3A3%2C%22h%22%3A1%2C%22x%22%3A0%2C%22y%22%3A0%2C%22i%22%3A%22DateRangePicker%22%2C%22minW%22%3A2%2C%22minH%22%3A1%2C%22moved%22%3Afalse%2C%22static%22%3Afalse%7D%2C%7B%22w%22%3A9%2C%22h%22%3A1%2C%22x%22%3A3%2C%22y%22%3A0%2C%22i%22%3A%22Slider%22%2C%22minW%22%3A2%2C%22minH%22%3A1%2C%22moved%22%3Afalse%2C%22static%22%3Afalse%7D%2C%7B%22w%22%3A8%2C%22h%22%3A4%2C%22x%22%3A4%2C%22y%22%3A1%2C%22i%22%3A%22View2D%22%2C%22minW%22%3A4%2C%22minH%22%3A2%2C%22moved%22%3Afalse%2C%22static%22%3Afalse%7D%2C%7B%22w%22%3A4%2C%22h%22%3A4%2C%22x%22%3A0%2C%22y%22%3A1%2C%22i%22%3A%22Chart%22%2C%22minW%22%3A2%2C%22minH%22%3A2%2C%22moved%22%3Afalse%2C%22static%22%3Afalse%7D%5D&url=http%3A%2F%2Flocalhost%3A8003%2Fout%2Fgetting_started%2Fdata_model.json&interval=60&typeColors=%5B%5B%22unknown%22%2C%22%23ff0000%22%5D%5D)"
   ]
  },
  {
   "cell_type": "code",
   "execution_count": null,
   "id": "1679f95d",
   "metadata": {},
   "outputs": [],
   "source": [
    "host_images(configuration)"
   ]
  }
 ],
 "metadata": {
  "kernelspec": {
   "display_name": "Python 3",
   "language": "python",
   "name": "python3"
  },
  "language_info": {
   "codemirror_mode": {
    "name": "ipython",
    "version": 3
   },
   "file_extension": ".py",
   "mimetype": "text/x-python",
   "name": "python",
   "nbconvert_exporter": "python",
   "pygments_lexer": "ipython3",
   "version": "3.13.1"
  },
  "widgets": {
   "application/vnd.jupyter.widget-state+json": {
    "state": {},
    "version_major": 2,
    "version_minor": 0
   }
  }
 },
 "nbformat": 4,
 "nbformat_minor": 5
}
