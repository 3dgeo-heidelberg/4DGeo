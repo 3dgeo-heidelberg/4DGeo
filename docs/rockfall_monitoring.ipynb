{
 "cells": [
  {
   "cell_type": "code",
   "execution_count": 5,
   "id": "8be0e651",
   "metadata": {},
   "outputs": [],
   "source": [
    "import py4dgeo\n",
    "import laspy\n",
    "import numpy as np\n",
    "import os\n",
    "import sys\n",
    "sys.path.insert(0, \"../src\")\n",
    "from fourdgeo import projection\n",
    "from fourdgeo import utilities\n",
    "from fourdgeo import change"
   ]
  },
  {
   "cell_type": "markdown",
   "id": "625ff4c9",
   "metadata": {},
   "source": [
    "## Change detection"
   ]
  },
  {
   "cell_type": "code",
   "execution_count": null,
   "id": "ba481409",
   "metadata": {},
   "outputs": [],
   "source": [
    "# Handle file download/reading here\n",
    "# TODO: add a heibox link to the point cloud so anyone can try the script (check the notebook of the branch evolution)\n",
    "infolder = r\"/media/william/FA2C-06E6/weekend/low_res_bad_attr_clipped\"\n",
    "\n",
    "m3c2_settings = {\"cyl_radius\":1,\n",
    "                 \"normal_radii\":[1.0,],\n",
    "                 \"max_distance\": 10.0,\n",
    "                 \"registration_error\":0.025\n",
    "                 }\n",
    "\n",
    "#DBScan parameters\n",
    "dbscan_eps = 1\n",
    "min_cluster_size = 100"
   ]
  },
  {
   "cell_type": "code",
   "execution_count": 8,
   "id": "34ee7cc2",
   "metadata": {},
   "outputs": [
    {
     "name": "stdout",
     "output_type": "stream",
     "text": [
      "[2025-07-05 15:26:46][INFO] Reading point cloud from file '/media/william/FA2C-06E6/weekend/low_res_bad_attr_clipped/240825_220005.laz'\n",
      "[2025-07-05 15:26:46][INFO] Reading point cloud from file '/media/william/FA2C-06E6/weekend/low_res_bad_attr_clipped/240825_230005.laz'\n",
      "[2025-07-05 15:26:46][INFO] Building KDTree structure with leaf parameter 10\n",
      "[2025-07-05 15:26:46][INFO] Building KDTree structure with leaf parameter 10\n",
      "No clusters found between 240825_220005.laz and 240825_230005.laz.\n",
      "[2025-07-05 15:26:57][INFO] Reading point cloud from file '/media/william/FA2C-06E6/weekend/low_res_bad_attr_clipped/240825_230005.laz'\n",
      "[2025-07-05 15:26:57][INFO] Reading point cloud from file '/media/william/FA2C-06E6/weekend/low_res_bad_attr_clipped/240826_000005.laz'\n",
      "[2025-07-05 15:26:57][INFO] Building KDTree structure with leaf parameter 10\n",
      "[2025-07-05 15:26:58][INFO] Building KDTree structure with leaf parameter 10\n",
      "No clusters found between 240825_230005.laz and 240826_000005.laz.\n",
      "[2025-07-05 15:27:10][INFO] Reading point cloud from file '/media/william/FA2C-06E6/weekend/low_res_bad_attr_clipped/240826_000005.laz'\n",
      "[2025-07-05 15:27:10][INFO] Reading point cloud from file '/media/william/FA2C-06E6/weekend/low_res_bad_attr_clipped/240826_010006.laz'\n",
      "[2025-07-05 15:27:10][INFO] Building KDTree structure with leaf parameter 10\n",
      "[2025-07-05 15:27:10][INFO] Building KDTree structure with leaf parameter 10\n",
      "[2025-07-05 15:27:27][INFO] Reading point cloud from file '/media/william/FA2C-06E6/weekend/low_res_bad_attr_clipped/240826_010006.laz'\n",
      "[2025-07-05 15:27:27][INFO] Reading point cloud from file '/media/william/FA2C-06E6/weekend/low_res_bad_attr_clipped/240826_020005.laz'\n",
      "[2025-07-05 15:27:27][INFO] Building KDTree structure with leaf parameter 10\n",
      "[2025-07-05 15:27:27][INFO] Building KDTree structure with leaf parameter 10\n",
      "No clusters found between 240826_010006.laz and 240826_020005.laz.\n",
      "[2025-07-05 15:27:41][INFO] Reading point cloud from file '/media/william/FA2C-06E6/weekend/low_res_bad_attr_clipped/240826_020005.laz'\n",
      "[2025-07-05 15:27:41][INFO] Reading point cloud from file '/media/william/FA2C-06E6/weekend/low_res_bad_attr_clipped/240826_030005.laz'\n",
      "[2025-07-05 15:27:41][INFO] Building KDTree structure with leaf parameter 10\n",
      "[2025-07-05 15:27:41][INFO] Building KDTree structure with leaf parameter 10\n",
      "No clusters found between 240826_020005.laz and 240826_030005.laz.\n"
     ]
    }
   ],
   "source": [
    "observations = {\"observations\": []}\n",
    "\n",
    "# Gather & sort only the .laz files\n",
    "laz_files = sorted(f for f in os.listdir(infolder) if f.endswith('.laz'))\n",
    "\n",
    "# Walk through each consecutive pair\n",
    "for prev_fname, curr_fname in zip(laz_files, laz_files[1:]):\n",
    "    prev_path = os.path.join(infolder, prev_fname)\n",
    "    curr_path = os.path.join(infolder, curr_fname)\n",
    "\n",
    "    startDateTime = utilities.iso_timestamp(prev_fname)\n",
    "    endDateTime   = utilities.iso_timestamp(curr_fname)\n",
    "\n",
    "    # Load point clouds\n",
    "    epoch_0 = py4dgeo.read_from_las(prev_path)\n",
    "    epoch_1 = py4dgeo.read_from_las(curr_path)\n",
    "\n",
    "    # Compute M3C2\n",
    "    m3c2 = py4dgeo.M3C2(\n",
    "        epochs=(epoch_0, epoch_1),\n",
    "        corepoints=epoch_0.cloud,\n",
    "        cyl_radius=m3c2_settings[\"cyl_radius\"],\n",
    "        normal_radii=m3c2_settings[\"normal_radii\"],\n",
    "        max_distance=m3c2_settings[\"max_distance\"],\n",
    "        registration_error=m3c2_settings[\"registration_error\"],\n",
    "    )\n",
    "    distances, uncertainties = m3c2.run()\n",
    "\n",
    "    # Mask & stack only significant changes\n",
    "    mask = np.abs(distances) >= uncertainties[\"lodetection\"]\n",
    "    if not mask.any():\n",
    "        print(f\"No significant changes between {prev_fname} → {curr_fname}\")\n",
    "        continue\n",
    "\n",
    "    significant_pts = epoch_0.cloud[mask]\n",
    "    significant_d  = distances[mask]\n",
    "    changes = np.column_stack((significant_pts, significant_d))\n",
    "\n",
    "    # Cluster & extract geoObjects\n",
    "    labeled = change.cluster_m3c2_changes(changes, dbscan_eps, min_cluster_size)\n",
    "    geoObjects = change.extract_geoObjects_from_clusters(labeled, endDateTime, prev_fname, curr_fname)\n",
    "\n",
    "    observations[\"observations\"].append({\n",
    "        \"backgroundImageData\": {},\n",
    "        \"startDateTime\": startDateTime,\n",
    "        \"endDateTime\": endDateTime,\n",
    "        \"geoObjects\": geoObjects,\n",
    "    })"
   ]
  },
  {
   "cell_type": "markdown",
   "id": "a61b37c0",
   "metadata": {},
   "source": [
    "## Projections\n",
    "### Prepare the configuration file"
   ]
  },
  {
   "cell_type": "code",
   "execution_count": 9,
   "id": "31918c97",
   "metadata": {},
   "outputs": [],
   "source": [
    "configuration = {\n",
    "    \"project_setting\": {\n",
    "        \"project_name\": \"Rockfall_monitoring\",\n",
    "        \"output_folder\": \"./out\",\n",
    "        \"temporal_format\": \"%y%m%d_%H%M%S\",\n",
    "        \"silent_mode\": True,\n",
    "        \"include_timestamp\": False\n",
    "    },\n",
    "    \"pc_projection\": {\n",
    "        \"pc_path\": \"\",\n",
    "        \"make_range_image\": True,\n",
    "        \"make_color_image\": False,\n",
    "        \"top_view\": False,\n",
    "        \"save_rot_pc\": False,\n",
    "        \"resolution_cm\": 12.5,\n",
    "        \"camera_position\": [\n",
    "            0.0,\n",
    "            0.0,\n",
    "            0.0\n",
    "        ],\n",
    "        \"rgb_light_intensity\": 100,\n",
    "        \"range_light_intensity\": 10,\n",
    "        \"epsg\": None\n",
    "    }\n",
    "}"
   ]
  },
  {
   "cell_type": "markdown",
   "id": "ea860316",
   "metadata": {},
   "source": [
    "### Generating the background images"
   ]
  },
  {
   "cell_type": "code",
   "execution_count": 10,
   "id": "bcf1dfa9",
   "metadata": {},
   "outputs": [],
   "source": [
    "images = []\n",
    "list_background_projections = []\n",
    "laz_files = sorted(f for f in os.listdir(infolder) if f.endswith('.laz'))\n",
    "\n",
    "for enum, laz_file in enumerate(laz_files):\n",
    "    pc = os.path.join(infolder, laz_file)\n",
    "    lf = laspy.read(pc)\n",
    "    configuration['pc_projection']['pc_path'] = pc\n",
    "    background_projection = projection.PCloudProjection(\n",
    "        configuration = configuration,\n",
    "        project_name = configuration['project_setting']['project_name'],\n",
    "        projected_image_folder = configuration['project_setting']['output_folder'],\n",
    "    )\n",
    "    # First projection\n",
    "    if enum == 0:\n",
    "        (\n",
    "            ref_h_fov, ref_v_fov, ref_anchor_point_xyz, \n",
    "            ref_h_img_res, ref_v_img_res\n",
    "        ) = background_projection.project_pc(buffer_m = 0.5)\n",
    "    # Next projections using reference data\n",
    "    else:\n",
    "        background_projection.project_pc(\n",
    "            ref_theta=ref_h_fov[0],\n",
    "            ref_phi=ref_v_fov[0],\n",
    "            ref_anchor_point_xyz=None,\n",
    "            ref_h_fov=ref_h_fov,\n",
    "            ref_v_fov=ref_v_fov,\n",
    "            ref_h_img_res=ref_h_img_res,\n",
    "            ref_v_img_res=ref_v_img_res\n",
    "        )\n",
    "    outfile = f\"out/Rockfall_monitoring_RangeImage_{enum}_{enum+1}.tif\"\n",
    "    try:\n",
    "        os.rename(\"out/Rockfall_monitoring_RangeImage.tif\", outfile)\n",
    "    except FileExistsError:\n",
    "        os.remove(outfile)\n",
    "        os.rename(\"out/Rockfall_monitoring_RangeImage.tif\", outfile)\n",
    "    images.append(outfile)\n",
    "\n",
    "    background_projection.bg_image_filename[0] = outfile\n",
    "    list_background_projections.append(background_projection)"
   ]
  },
  {
   "cell_type": "markdown",
   "id": "16d14dca",
   "metadata": {},
   "source": [
    "### Projecting the change events onto the image background"
   ]
  },
  {
   "cell_type": "code",
   "execution_count": 11,
   "id": "5a5cb321",
   "metadata": {},
   "outputs": [],
   "source": [
    "project_name = configuration[\"project_setting\"][\"project_name\"]\n",
    "list_observation_projection = []\n",
    "\n",
    "for epoch_id, observation in enumerate(observations['observations']):\n",
    "    if observation['geoObjects'] is None:\n",
    "        list_observation_projection.append(None)\n",
    "        continue\n",
    "    background_projection = list_background_projections[epoch_id]\n",
    "\n",
    "    observation_projection = projection.ProjectChange(observation=observation,\n",
    "                            project_name=f\"{project_name}_{epoch_id}_{epoch_id+1}\",\n",
    "                            projected_image_path=background_projection.bg_image_filename[0],\n",
    "                            projected_events_folder=\"./out\",\n",
    "                            epsg=None)\n",
    "\n",
    "    observation_projection.project_change()\n",
    "    list_observation_projection.append(observation_projection)"
   ]
  },
  {
   "cell_type": "markdown",
   "id": "3ef1e149",
   "metadata": {},
   "source": [
    "### Display the rockfall event in the study site, as soon as detected"
   ]
  },
  {
   "cell_type": "code",
   "execution_count": 12,
   "id": "c2e3ccdb",
   "metadata": {},
   "outputs": [
    {
     "data": {
      "text/html": [
       "\n",
       "<img src=\"../docs/img/rockfall_projections_plus_observations.gif?v=1751722076.9315064\" style=\"height:5in;\" />\n"
      ],
      "text/plain": [
       "<IPython.core.display.HTML object>"
      ]
     },
     "execution_count": 12,
     "metadata": {},
     "output_type": "execute_result"
    }
   ],
   "source": [
    "from PIL import Image, ImageDraw\n",
    "import json\n",
    "from IPython.display import HTML\n",
    "\n",
    "# branch_crop_box = (130, 1170, 1600, 2000) # (left, upper, right, lower)\n",
    "frames = []\n",
    "gif_path = \"../docs/img/rockfall_projections_plus_observations.gif\"\n",
    "\n",
    "for enum, img in enumerate(images[1:]):\n",
    "    frm = Image.open(img).convert(\"RGB\")\n",
    "    # frm = frm.crop(branch_crop_box)\n",
    "    draw = ImageDraw.Draw(frm)\n",
    "\n",
    "    observation_projection = list_observation_projection[enum]\n",
    "\n",
    "    # Load geojson\n",
    "    if observation_projection is not None:\n",
    "        with open(observation_projection.geojson_name, 'r') as f:\n",
    "            geojson_data = json.load(f)\n",
    "\n",
    "        for feature in geojson_data[\"features\"]:\n",
    "            coords = np.array(feature[\"geometry\"]['coordinates'][0])\n",
    "            coords[:,1] *= -1\n",
    "            coords = coords.reshape(len(coords)*2)\n",
    "            draw.polygon(list(coords), outline='yellow', width=4)\n",
    "\n",
    "    frames.append(frm)\n",
    "    \n",
    "\n",
    "frames[0].save(\n",
    "    gif_path,\n",
    "    save_all=True,\n",
    "    append_images=frames[1:],\n",
    "    duration=500,\n",
    "    loop=0\n",
    ")\n",
    "\n",
    "\n",
    "# Bust cache with a unique query string\n",
    "gif_display_path = gif_path + \"?v=\" + str(os.path.getmtime(gif_path))\n",
    "HTML(f\"\"\"\n",
    "<img src=\"{gif_display_path}\" style=\"height:5in;\" />\n",
    "\"\"\")"
   ]
  }
 ],
 "metadata": {
  "kernelspec": {
   "display_name": "4dgeo",
   "language": "python",
   "name": "python3"
  },
  "language_info": {
   "codemirror_mode": {
    "name": "ipython",
    "version": 3
   },
   "file_extension": ".py",
   "mimetype": "text/x-python",
   "name": "python",
   "nbconvert_exporter": "python",
   "pygments_lexer": "ipython3",
   "version": "3.10.18"
  }
 },
 "nbformat": 4,
 "nbformat_minor": 5
}
