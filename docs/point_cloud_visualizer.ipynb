{
 "cells": [
  {
   "cell_type": "markdown",
   "id": "f78d270e-0241-4a4a-80d8-2a0dd38ffa54",
   "metadata": {},
   "source": [
    "# Easy monitoring example\n",
    "\n",
    "Ronald Tabernig, William Albert, Hannah Weiser, July 2025 \n",
    "\n",
    "This notebook demonstrates the data preparation. The dataset contains **6 scans** of a [rockfall area in Trier, Germany](https://www.youtube.com/watch?v=bOp4XN9FM48) captured hourly in the night from 25 August 2024 to 26 August 2024."
   ]
  },
  {
   "cell_type": "markdown",
   "id": "c3ce57fc-d59a-441a-bbcf-1586238437f0",
   "metadata": {},
   "source": [
    "## Imports"
   ]
  },
  {
   "cell_type": "code",
   "execution_count": null,
   "id": "8be0e651",
   "metadata": {},
   "outputs": [],
   "source": [
    "import py4dgeo\n",
    "import laspy\n",
    "import numpy as np\n",
    "import os\n",
    "import sys\n",
    "import json\n",
    "sys.path.insert(0, \"../src\")\n",
    "from fourdgeo import projection\n",
    "from fourdgeo import utilities\n",
    "from fourdgeo import change\n",
    "\n",
    "# File download and handling\n",
    "from pathlib import Path\n",
    "import pooch\n",
    "from tqdm import tqdm\n",
    "\n",
    "# Image handling\n",
    "from PIL import Image, ImageDraw, ImageFont, ImageSequence\n",
    "from IPython.display import HTML"
   ]
  },
  {
   "cell_type": "markdown",
   "id": "625ff4c9",
   "metadata": {},
   "source": [
    "## Get the data"
   ]
  },
  {
   "cell_type": "code",
   "execution_count": 2,
   "id": "ba481409",
   "metadata": {},
   "outputs": [],
   "source": [
    "# Handle file download/reading here\n",
    "data_url = \"https://heibox.uni-heidelberg.de/f/6c2a4e6755b74d1abad0/?dl=1\"\n",
    "data_hash = \"77b343183c86cbc3f72e0edbe362cc3219d41e00fcf4389ab650a09a13b1b1ec\"\n",
    "file_name = \"rockfall_trier.zip\"\n",
    "data_folder = \"data/rockfall_trier\"\n",
    "\n",
    "if not Path(data_folder).exists():\n",
    "    fnames = pooch.retrieve(url=data_url,\n",
    "                            known_hash=data_hash,\n",
    "                            path=\"./\",\n",
    "                            fname=file_name,\n",
    "                            processor=pooch.Unzip(extract_dir=data_folder),\n",
    "                            progressbar=True)\n",
    "    os.remove(file_name)"
   ]
  },
  {
   "cell_type": "markdown",
   "id": "a61b37c0",
   "metadata": {},
   "source": [
    "## Projections\n",
    "### Prepare the configuration file\n",
    "\n",
    "We use a configuration dictionary that contains general project settings like the `output_folder` and the relevant settings for the point cloud projection. For the projection, parameters like the `camera_position` and the `resolution_cm` are essential."
   ]
  },
  {
   "cell_type": "code",
   "execution_count": 6,
   "id": "31918c97",
   "metadata": {},
   "outputs": [],
   "source": [
    "configuration = {\n",
    "    \"project_setting\": {\n",
    "        \"project_name\": \"Rockfall_monitoring\",\n",
    "        \"output_folder\": \"./out/rockfall_monitoring\",\n",
    "        \"temporal_format\": \"%y%m%d_%H%M%S\",\n",
    "        \"silent_mode\": True,\n",
    "        \"include_timestamp\": False\n",
    "    },\n",
    "    \"pc_projection\": {\n",
    "        \"pc_path\": \"\",\n",
    "        \"make_range_image\": True,\n",
    "        \"make_color_image\": False,\n",
    "        \"top_view\": False,\n",
    "        \"save_rot_pc\": False,\n",
    "        \"resolution_cm\": 12.5,\n",
    "        \"camera_position\": [\n",
    "            0.0,\n",
    "            0.0,\n",
    "            0.0\n",
    "        ],\n",
    "        \"rgb_light_intensity\": 100,\n",
    "        \"range_light_intensity\": 10,\n",
    "        \"epsg\": None\n",
    "    }\n",
    "}"
   ]
  },
  {
   "cell_type": "markdown",
   "id": "ea860316",
   "metadata": {},
   "source": [
    "### Generate the background images\n",
    "\n",
    "We now generate the background images. For this, we are using classes and functions from the `fourdgeo` library. The class `PCloudProjection` directly takes our configuration file as input and writes them into our specified `output_folder`."
   ]
  },
  {
   "cell_type": "code",
   "execution_count": null,
   "id": "bcf1dfa9",
   "metadata": {},
   "outputs": [],
   "source": [
    "observations = {\"observations\": []}\n",
    "\n",
    "laz_paths = list(Path(data_folder).glob(\"*.laz\"))\n",
    "laz_paths = sorted(laz_paths)\n",
    "\n",
    "images = []\n",
    "list_background_projections = []\n",
    "pcs = sorted(laz_paths)\n",
    "\n",
    "for enum, pc in enumerate(pcs):\n",
    "    lf = laspy.read(pc)\n",
    "    configuration['pc_projection']['pc_path'] = pc\n",
    "    project_name = configuration['project_setting']['project_name']\n",
    "    output_folder = configuration['project_setting']['output_folder']\n",
    "\n",
    "    background_projection = projection.PCloudProjection(\n",
    "        configuration = configuration,\n",
    "        project_name = project_name,\n",
    "        projected_image_folder = output_folder,\n",
    "    )\n",
    "    # First projection\n",
    "    if enum == 0:\n",
    "        (\n",
    "            ref_h_fov, ref_v_fov, ref_anchor_point_xyz, \n",
    "            ref_h_img_res, ref_v_img_res\n",
    "        ) = background_projection.project_pc(buffer_m = 0.5)\n",
    "    # Next projections using reference data\n",
    "    else:\n",
    "        background_projection.project_pc(\n",
    "            ref_theta=ref_h_fov[0],\n",
    "            ref_phi=ref_v_fov[0],\n",
    "            ref_anchor_point_xyz=None,\n",
    "            ref_h_fov=ref_h_fov,\n",
    "            ref_v_fov=ref_v_fov,\n",
    "            ref_h_img_res=ref_h_img_res,\n",
    "            ref_v_img_res=ref_v_img_res\n",
    "        )\n",
    "\n",
    "    bg_img = background_projection.bg_image_filename[0]\n",
    "    if bg_img[0] == \".\":\n",
    "        bg_img = bg_img[2:]\n",
    "\n",
    "    outfile = bg_img.split('.')[0] + f\"_{enum}_{enum+1}.\" + bg_img.split('.')[1]\n",
    "\n",
    "    try:\n",
    "        os.rename(bg_img, outfile)\n",
    "    except FileExistsError:\n",
    "        os.remove(outfile)\n",
    "        os.rename(bg_img, outfile)\n",
    "\n",
    "    images.append(outfile)\n",
    "\n",
    "    background_projection.bg_image_filename[0] = outfile\n",
    "    list_background_projections.append(background_projection)"
   ]
  },
  {
   "cell_type": "markdown",
   "id": "61de346c",
   "metadata": {},
   "source": [
    "### Convert .tif Images to .png Images\n",
    "\n",
    "Because the dashboard (currently) does not support TIF files, we need to convert the generated background images to the PNG format."
   ]
  },
  {
   "cell_type": "code",
   "execution_count": 8,
   "id": "5729f75e",
   "metadata": {},
   "outputs": [],
   "source": [
    "png_images = []\n",
    "\n",
    "for background_projection in list_background_projections:\n",
    "    image_path = background_projection.bg_image_filename[0]\n",
    "    filename = str.split(image_path, \".\")[0]\n",
    "    try:\n",
    "        with Image.open(image_path) as im:\n",
    "            for i, page in enumerate(ImageSequence.Iterator(im)):\n",
    "                out_path = filename + \".png\"\n",
    "                if not os.path.isfile(out_path):\n",
    "                    try:\n",
    "                        page.save(out_path)\n",
    "                    except:\n",
    "                        print(out_path)\n",
    "            png_images.append(out_path)\n",
    "    except:\n",
    "        print(filename)"
   ]
  },
  {
   "cell_type": "markdown",
   "id": "16d14dca",
   "metadata": {},
   "source": [
    "### Project the change events onto the image background\n",
    "\n",
    "Here, we also project the change events onto the background image using the `ProjectChange` class. The `observation` GeoJSON files are written to the `output_folder`."
   ]
  },
  {
   "cell_type": "code",
   "execution_count": 9,
   "id": "5a5cb321",
   "metadata": {},
   "outputs": [],
   "source": [
    "project_name = configuration[\"project_setting\"][\"project_name\"]\n",
    "list_observation_projection = []\n",
    "\n",
    "for epoch_id, observation in enumerate(observations['observations']):\n",
    "    background_projection = list_background_projections[epoch_id]\n",
    "    observation_projection = projection.ProjectChange(observation=observation,\n",
    "                            project_name=f\"{project_name}_{epoch_id}_{epoch_id+1}\",\n",
    "                            projected_image_path=background_projection.bg_image_filename[0],\n",
    "                            projected_events_folder=output_folder,\n",
    "                            epsg=None)\n",
    "\n",
    "    if observation[\"geoObjects\"] is not None:\n",
    "        observation_projection.project_change()\n",
    "    list_observation_projection.append(observation_projection)"
   ]
  },
  {
   "cell_type": "markdown",
   "id": "3ef1e149",
   "metadata": {},
   "source": [
    "### Display the rockfall event in the study site, as soon as detected\n",
    "\n",
    "We generate a GIF of the time series and display the rockfall event using the polygon outlines as soon as it is detected."
   ]
  },
  {
   "cell_type": "code",
   "execution_count": 10,
   "id": "c2e3ccdb",
   "metadata": {},
   "outputs": [],
   "source": [
    "frames = []\n",
    "gif_path = \"../docs/img/rockfall_projections_plus_observations.gif\"\n",
    "font = ImageFont.load_default(size = 30)\n",
    "\n",
    "for enum, img in enumerate(images[1:]):\n",
    "    frm = Image.open(img).convert(\"RGB\")\n",
    "    draw = ImageDraw.Draw(frm)\n",
    "    draw.text((500, 36), f\"Epoch: {enum}\", fill=(255, 255, 255), font=font)\n",
    "\n",
    "    observation_projection = list_observation_projection[enum]\n",
    "\n",
    "    # Load geojson\n",
    "    if observation_projection.observation[\"geoObjects\"] is not None:\n",
    "        with open(observation_projection.geojson_name, 'r') as f:\n",
    "            geojson_data = json.load(f)\n",
    "\n",
    "        for feature in geojson_data[\"features\"]:\n",
    "            coords = np.array(feature[\"geometry\"]['coordinates'][0])\n",
    "            coords[:,1] *= -1\n",
    "            coords = coords.reshape(len(coords)*2)\n",
    "            draw.polygon(list(coords), outline='yellow', width=4)\n",
    "\n",
    "    frames.append(frm)\n",
    "    \n",
    "\n",
    "frames[0].save(\n",
    "    gif_path,\n",
    "    save_all=True,\n",
    "    append_images=frames[1:],\n",
    "    duration=1000,\n",
    "    loop=0\n",
    ")"
   ]
  },
  {
   "cell_type": "markdown",
   "id": "5c154e60-e9e3-4fd2-9b4c-87654bf75e3a",
   "metadata": {},
   "source": [
    "<img src=\"img/rockfall_projections_plus_observations.gif\" style=\"width:900px;\">"
   ]
  },
  {
   "cell_type": "markdown",
   "id": "d8699cee",
   "metadata": {},
   "source": [
    "## Extract the final JSON \n",
    "\n",
    "In order to include this data into the dashboard, we now need to convert the created geojson data to the dashboard data model. For this, we iterate through all geojson files and create their observation objects and the aggregate them into one final data model object and store it in the `output_folder`. This files can then be loaded with the 4DGeo Dashboard.\n",
    "\n",
    "Note: The path to the background image files has to be a working url. In this example, we use the temporary hosted localhost, explained in [this section](#visualise-the-data-in-the-dashboard). Later this can and should be replaced by an actual server containing the files."
   ]
  },
  {
   "cell_type": "code",
   "execution_count": 11,
   "id": "6bbefae9",
   "metadata": {},
   "outputs": [],
   "source": [
    "aggregated_data = utilities.DataModel([])\n",
    "\n",
    "for (i, observation_projection) in enumerate(list_observation_projection):\n",
    "    if observation_projection is None:\n",
    "        continue\n",
    "    elif observation_projection.observation[\"geoObjects\"] is None:\n",
    "        img_size = Image.open(png_images[i + 1]).convert(\"RGB\").size\n",
    "        aggregated_data.observations.append(utilities.Observation(\n",
    "            startDateTime=observation_projection.observation[\"startDateTime\"],\n",
    "            endDateTime=observation_projection.observation[\"endDateTime\"],\n",
    "            geoObjects=[],\n",
    "            backgroundImageData=utilities.ImageData(\n",
    "                url=str(\"http://localhost:8001/\" + png_images[i + 1]).replace(\"\\\\\", \"/\"),\n",
    "                width=img_size[0],\n",
    "                height=img_size[1]\n",
    "            )\n",
    "        ))\n",
    "        continue\n",
    "    \n",
    "    with open(observation_projection.geojson_name, 'r') as f:\n",
    "        geojson_data = json.load(f)\n",
    "    \n",
    "    img_size = Image.open(png_images[i + 1]).convert(\"RGB\").size\n",
    "    geometry = geojson_data.get(\"features\")[0].get(\"geometry\")\n",
    "    coords = geometry.get(\"coordinates\")\n",
    "    new_observations = utilities.convert_geojson_to_datamodel(\n",
    "        geojson=geojson_data,\n",
    "        bg_img=str(\"http://localhost:8001/\" + png_images[i + 1]).replace(\"\\\\\", \"/\"),\n",
    "        width=img_size[0],\n",
    "        height=img_size[1]\n",
    "    )\n",
    "\n",
    "    aggregated_data.observations.extend(new_observations.observations)\n",
    "\n",
    "with open(f\"{output_folder}/final_data_model.json\", \"w\") as f:\n",
    "    f.write(aggregated_data.toJSON())"
   ]
  },
  {
   "cell_type": "markdown",
   "id": "86e88dd6",
   "metadata": {},
   "source": [
    "### Visualise the data in the dashboard\n",
    "\n",
    "To see our results in the actual dashboard, we need to host the created json file to make it accessbile. As a quick and easy solution, we can use the **http.server** python library. The python script `server-host.py` hosts all the files in this directory. So in order to setup this local hosting, we need navigate to the `4DGeo/docs` folder to execute the following command in a commandline:\n",
    "\n",
    "`python server_host.py`\n",
    "\n",
    "Lastly, inside of the dashboard, set the data source to `http://localhost:8001/out/rockfall_monitoring/final_data_model.json`."
   ]
  }
 ],
 "metadata": {
  "kernelspec": {
   "display_name": "4dgeotest",
   "language": "python",
   "name": "python3"
  },
  "language_info": {
   "codemirror_mode": {
    "name": "ipython",
    "version": 3
   },
   "file_extension": ".py",
   "mimetype": "text/x-python",
   "name": "python",
   "nbconvert_exporter": "python",
   "pygments_lexer": "ipython3",
   "version": "3.13.5"
  },
  "widgets": {
   "application/vnd.jupyter.widget-state+json": {
    "state": {},
    "version_major": 2,
    "version_minor": 0
   }
  }
 },
 "nbformat": 4,
 "nbformat_minor": 5
}
