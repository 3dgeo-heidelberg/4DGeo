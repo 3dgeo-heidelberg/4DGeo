{
 "cells": [
  {
   "cell_type": "markdown",
   "id": "2bd9a96e",
   "metadata": {},
   "source": [
    "# Phenology and branch movement\n",
    "\n",
    "This notebook demonstrated the preparation of the 4DGeo phenology example. The dataset contains weekly scans of a tree over a time period of 6 weeks, with the first scan on 27 March 2025 and the last scan on 9 May 2025.\n",
    "\n",
    "The starting point of the notebook are pointwise motion vectors computed for all pairs of consecutive scans. These may be computed using tools like [PlantMove](https://doi.org/10.1016/j.jag.2022.102781). Here, we read these motion vectors from a .npz file with Python. In addition, we have the .laz files for the individual scans, which for each epoch are split into the branch of interest and the rest of the tree. "
   ]
  },
  {
   "cell_type": "markdown",
   "id": "94dead30",
   "metadata": {},
   "source": [
    "## Imports"
   ]
  },
  {
   "cell_type": "code",
   "execution_count": 1,
   "id": "5e578b2c",
   "metadata": {},
   "outputs": [],
   "source": [
    "from pathlib import Path\n",
    "import vapc\n",
    "import numpy as np\n",
    "from scipy.spatial import KDTree\n",
    "import pandas as pd\n",
    "import pyvista as pv\n",
    "pv.set_jupyter_backend('html')  # or switch to 'trame'\n",
    "import laspy"
   ]
  },
  {
   "cell_type": "markdown",
   "id": "5c2a9c39",
   "metadata": {},
   "source": [
    "## Getting the data"
   ]
  },
  {
   "cell_type": "code",
   "execution_count": 2,
   "id": "a156fcb0",
   "metadata": {},
   "outputs": [],
   "source": [
    "import zipfile, urllib.request, shutil\n",
    "data_url = \"https://heibox.uni-heidelberg.de/f/de3dc527cb3f478f896e/?dl=1\"\n",
    "file_name = \"branch_evolution.zip\"\n",
    "\n",
    "with urllib.request.urlopen(data_url) as response, open(file_name, 'wb') as out_file:\n",
    "    shutil.copyfileobj(response, out_file)\n",
    "with zipfile.ZipFile(file_name, 'r') as zip_ref:\n",
    "    zip_ref.extractall(\"data\")"
   ]
  },
  {
   "cell_type": "markdown",
   "id": "c0fdfe47",
   "metadata": {},
   "source": [
    "## Overview of the data\n",
    "\n",
    "Let's first get an overview of the input data. We visualize the point clouds of the first and last scan side by side with `pyvista`, coloured by height."
   ]
  },
  {
   "cell_type": "code",
   "execution_count": 3,
   "id": "8c99a985",
   "metadata": {},
   "outputs": [
    {
     "data": {
      "application/vnd.jupyter.widget-view+json": {
       "model_id": "072f893cd812414e8864c550200eeb53",
       "version_major": 2,
       "version_minor": 0
      },
      "text/plain": [
       "EmbeddableWidget(value='<iframe srcdoc=\"<!DOCTYPE html>\\n<html>\\n  <head>\\n    <meta http-equiv=&quot;Content-…"
      ]
     },
     "metadata": {},
     "output_type": "display_data"
    }
   ],
   "source": [
    "laz_files_branches = list(Path(\"data\").glob(\"*_branch.laz\"))\n",
    "laz_files_rest = list(Path(\"data\").glob(\"*_rest.laz\"))\n",
    "\n",
    "las_b0 = laspy.read(laz_files_branches[0])\n",
    "pc_b0 = np.array([las_b0.x, las_b0.y, las_b0.z]).T\n",
    "las_b6 = laspy.read(laz_files_branches[6])\n",
    "pc_b6 = np.array([las_b6.x, las_b6.y, las_b6.z]).T\n",
    "las_r0 = laspy.read(laz_files_rest[0])\n",
    "pc_r0 = np.array([las_r0.x, las_r0.y, las_r0.z]).T\n",
    "las_r6 = laspy.read(laz_files_rest[6])\n",
    "pc_r6 = np.array([las_r6.x, las_r6.y, las_r6.z]).T\n",
    "\n",
    "pl = pv.Plotter(notebook=True, shape=(1, 2))\n",
    "pl.add_points(pc_b0[::5], scalars = pc_b0[::5, 2], point_size=3, render_points_as_spheres=True)\n",
    "pl.add_points(pc_r0[::5], scalars = pc_r0[::5, 2], point_size=3, render_points_as_spheres=True)\n",
    "pl.add_text(\"27 March 2025\", position='upper_left', font_size=10, color='black')\n",
    "pl.subplot(0, 1)\n",
    "pl.add_points(pc_b6[::5], scalars = pc_b6[::5, 2], point_size=3, render_points_as_spheres=True)\n",
    "pl.add_points(pc_r6[::5], scalars = pc_r6[::5, 2], point_size=3, render_points_as_spheres=True)\n",
    "pl.add_text(\"09 May 2025\", position='upper_left', font_size=10, color='black')\n",
    "\n",
    "pl.link_views()\n",
    "pl.remove_scalar_bar()\n",
    "pl.camera_position = 'xz'\n",
    "pl.camera.zoom(2)\n",
    "pl.show()"
   ]
  },
  {
   "cell_type": "markdown",
   "id": "6ea6fb9b",
   "metadata": {},
   "source": [
    "The motion vectors have been computed with [PlantMove](https://doi.org/10.1016/j.jag.2022.102781) for each point in a selected branch in the point cloud. They are stored in a .npz archive. Let's look at the structure for the first observation (change between first epoch on 27 March and second epoch on 4 April 2025).\n",
    "\n",
    "`cloud_x` is the first time step, \\\n",
    "`cloud_y` is the second time step, \\\n",
    "`motionfield` is the derived motion field \\\n",
    "and `cloud_new` is the point cloud of the second time step registered onto the first time step by applying the motion vectors."
   ]
  },
  {
   "cell_type": "code",
   "execution_count": 4,
   "id": "3a431502",
   "metadata": {},
   "outputs": [],
   "source": [
    "\n",
    "files = list(Path(\"data\").glob(\"*.npz\"))\n",
    "obs_file = files[0]\n",
    "data = np.load(obs_file)\n",
    "cloud_x = data[\"x_original\"]  # t0\n",
    "cloud_y = data[\"y_original\"]  # t1\n",
    "cloud_new = data[\"y_new\"]  # t1 to t0\n",
    "motionfield = data[\"motionfield\"]  # motion field from t0 to t1\n",
    "motion_vec = motionfield[:, 3:6]\n",
    "motion_magnitudes = np.linalg.norm(motion_vec, axis=1)"
   ]
  },
  {
   "cell_type": "code",
   "execution_count": 5,
   "id": "4af4f4e8",
   "metadata": {},
   "outputs": [
    {
     "name": "stdout",
     "output_type": "stream",
     "text": [
      "Motion magnitudes between t0 and t1:\n",
      "\n",
      "Min:                 0.000 m\n",
      "Max:                 0.148 m\n",
      "Mean:                0.095 m\n",
      "Standard deviation:  0.040 m\n"
     ]
    }
   ],
   "source": [
    "print(\"Motion magnitudes between t0 and t1:\\n\")\n",
    "print(f\"{'Min:':20} {motion_magnitudes.min():.3f} m\")\n",
    "print(f\"{'Max:':20} {motion_magnitudes.max():.3f} m\")\n",
    "print(f\"{'Mean:':20} {motion_magnitudes.mean():.3f} m\")\n",
    "print(f\"{'Standard deviation:':20} {motion_magnitudes.std():.3f} m\")\n"
   ]
  },
  {
   "cell_type": "markdown",
   "id": "b850637b",
   "metadata": {},
   "source": [
    "## Projecting the point clouds onto 2D images\n",
    "\n",
    "For each observation, we create a 2D image of the point cloud by projecting the 3D points onto a 2D plane from the viewpoint of the scanner."
   ]
  },
  {
   "cell_type": "code",
   "execution_count": 6,
   "id": "3a4a2b44",
   "metadata": {},
   "outputs": [],
   "source": [
    "scanner_pos = [475923.4099, 5473923.7662, 159.1088]\n",
    "\n",
    "# TODO @Will: you continue here"
   ]
  },
  {
   "cell_type": "markdown",
   "id": "7be2c204",
   "metadata": {},
   "source": [
    "## Deriving a subset of motion vectors by voxelization and projecting them to 2D image coordinates\n",
    "\n",
    "Since the visualization would be too cluttered with all motion vectors, we reduce the number of motion vectors by voxelizing the point cloud and only keeping one motion vector per voxel. We then project these motion vectors onto the 2D image plane."
   ]
  },
  {
   "cell_type": "code",
   "execution_count": 7,
   "id": "9fc37ff9",
   "metadata": {},
   "outputs": [],
   "source": [
    "# Activate silent mode:\n",
    "vapc.enable_trace(False)\n",
    "vapc.enable_timeit(False)\n",
    "voxel_size = 0.05"
   ]
  },
  {
   "cell_type": "code",
   "execution_count": 8,
   "id": "f4574912",
   "metadata": {},
   "outputs": [],
   "source": [
    "pl = pv.Plotter()\n",
    "pl.open_gif(\"../docs/img/branch_evolution.gif\")\n",
    "\n",
    "colors = [\"#0a2f51\", \"#0f596b\", \"#16837a\", \"#1d9a6c\", \"#56b870\", \"#99d492\", \"#deedcf\"]\n",
    "\n",
    "obs_dict = {}\n",
    "for obs_id, file in enumerate(files):\n",
    "    obs_dict[\"observation_id\"] = obs_id\n",
    "    obs_dict[\"events\"] = []\n",
    "    # extract time from filenames\n",
    "    t_min = \"_\".join(file.stem.split(\"_\")[1:3])\n",
    "    t_max = \"_\".join(file.stem.split(\"_\")[7:9])\n",
    "\n",
    "    data = np.load(file)\n",
    "    cloud_x = data[\"x_original\"]  # t0\n",
    "    cloud_y = data[\"y_original\"]  # t1\n",
    "    cloud_new = data[\"y_new\"]  # t1 to t0\n",
    "    motionfield = data[\"motionfield\"]\n",
    "    motion_vec = motionfield[:, 3:6]\n",
    "    motion_magnitudes = np.linalg.norm(motion_vec, axis=1)\n",
    "\n",
    "    if obs_id == 0:\n",
    "        min_point = np.min(cloud_x, axis=0)\n",
    "        local_origin = np.floor(min_point / 100) * 100\n",
    "    else:\n",
    "        pl.remove_actor(pv_cloud1)\n",
    "        pl.remove_actor(pv_cloud2)\n",
    "        pl.remove_actor(pv_lines)\n",
    "    \n",
    "    pv_cloud1 = pl.add_points(cloud_x, color=colors[obs_id], point_size=2, render_points_as_spheres=True)\n",
    "\n",
    "    # array to dataframe\n",
    "    df_y = pd.DataFrame(cloud_y, columns=[\"X\", \"Y\", \"Z\"])\n",
    "    df_new = pd.DataFrame(cloud_new, columns=[\"X\", \"Y\", \"Z\"])\n",
    "\n",
    "    vapc_y = vapc.Vapc(voxel_size=voxel_size, origin=local_origin.tolist())\n",
    "    vapc_y.df = df_y\n",
    "    vapc_y.compute = [\"center_of_voxel\"]\n",
    "    vapc_y.compute_requested_attributes()\n",
    "\n",
    "    vapc_new = vapc.Vapc(voxel_size=voxel_size, origin=local_origin.tolist())\n",
    "    vapc_new.df = df_new\n",
    "    vapc_new.compute = [\"center_of_voxel\"]\n",
    "    vapc_new.compute_requested_attributes()\n",
    "    \n",
    "    if obs_id == 0:\n",
    "        seed_points = np.array((vapc_new.df[\"center_x\"].values, vapc_new.df[\"center_y\"].values, vapc_new.df[\"center_z\"].values)).T\n",
    "        seed_points = np.unique(seed_points, axis=0)\n",
    "    else:\n",
    "        seed_points = pts_y_original\n",
    "    \n",
    "    # get nearest neighbours to seed points in cloud_new\n",
    "    tree_ynew = KDTree(cloud_new)\n",
    "\n",
    "    dist, idx_yn = tree_ynew.query(seed_points, k=1)\n",
    "\n",
    "    # get points\n",
    "    pts_y_original = cloud_y[idx_yn, :]\n",
    "    pts_y_new = cloud_new[idx_yn, :]\n",
    "\n",
    "    # create lines from nearest points to seed in cloud y and corresponding points in cloud x\n",
    "    lines = np.hstack((pts_y_original, pts_y_new))\n",
    "\n",
    "    # write json object for each line\n",
    "    for i in range(lines.shape[0]):\n",
    "        event_dict = {}\n",
    "        event_dict[\"event_type\"] = \"motion_vector\"\n",
    "        event_dict[\"object_id\"] = f\"{obs_id}{i:04d}\"\n",
    "        event_dict[\"t_min\"] = t_min\n",
    "        event_dict[\"t_max\"] = t_max\n",
    "        event_dict[\"epoch_id\"] = obs_id\n",
    "        event_dict[\"change_magnitude\"] = motion_magnitudes[i]\n",
    "        event_dict[\"motion_vector_points\"] = [lines[i, 0:3].tolist(),\n",
    "                                              lines[i, 3:6].tolist()]\n",
    "        obs_dict[\"events\"].append(event_dict)\n",
    "        # TODO @Will: modify as you like and project lines either here or in separate cell/loop\n",
    "\n",
    "    # reshape to 2n x 3 array\n",
    "    lines2plot = lines.reshape(-1, 3)\n",
    "\n",
    "    # plot original cloud\n",
    "    pv_cloud2 = pl.add_points(cloud_y, color=pv.Color(colors[obs_id+1]), point_size=2, render_points_as_spheres=True)\n",
    "    pv_lines = pl.add_lines(lines2plot, color='black', width=3)\n",
    "    for _ in range(5):  # to make the gif slower\n",
    "        pl.write_frame()\n",
    "pl.close()\n"
   ]
  },
  {
   "cell_type": "markdown",
   "id": "ee37f150",
   "metadata": {},
   "source": [
    "![branch_evolution.gif](img/branch_evolution.gif)"
   ]
  },
  {
   "cell_type": "markdown",
   "id": "fb942e09",
   "metadata": {},
   "source": []
  }
 ],
 "metadata": {
  "kernelspec": {
   "display_name": "vapc",
   "language": "python",
   "name": "python3"
  },
  "language_info": {
   "codemirror_mode": {
    "name": "ipython",
    "version": 3
   },
   "file_extension": ".py",
   "mimetype": "text/x-python",
   "name": "python",
   "nbconvert_exporter": "python",
   "pygments_lexer": "ipython3",
   "version": "3.10.16"
  }
 },
 "nbformat": 4,
 "nbformat_minor": 5
}
