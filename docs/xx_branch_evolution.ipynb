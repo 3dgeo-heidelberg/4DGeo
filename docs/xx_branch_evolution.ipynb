{
 "cells": [
  {
   "cell_type": "markdown",
   "id": "2bd9a96e",
   "metadata": {},
   "source": [
    "# Phenology and branch movement\n",
    "\n",
    "This notebook demonstrated the preparation of the 4DGeo phenology example. The dataset contains weekly scans of a tree over a time period of 6 weeks, with the first scan on 27 March 2025 and the last scan on 9 May 2025.\n",
    "\n",
    "The starting point of the notebook are pointwise motion vectors computed for all pairs of consecutive scans. These may be computed using tools like [PlantMove](https://doi.org/10.1016/j.jag.2022.102781). Here, we read these motion vectors from a .npz file with Python. In addition, we have the .laz files for the individual scans, which for each epoch are split into the branch of interest and the rest of the tree. "
   ]
  },
  {
   "cell_type": "markdown",
   "id": "94dead30",
   "metadata": {},
   "source": [
    "## Imports"
   ]
  },
  {
   "cell_type": "code",
   "execution_count": 1,
   "id": "5e578b2c",
   "metadata": {},
   "outputs": [],
   "source": [
    "from pathlib import Path\n",
    "import vapc\n",
    "import numpy as np\n",
    "from scipy.spatial import KDTree\n",
    "import pandas as pd\n",
    "try:\n",
    "    import pyvista as pv\n",
    "    pv.set_jupyter_backend('html')  # or switch to 'trame' instead of 'html'\n",
    "    visualization = True\n",
    "except:\n",
    "    visualization = False\n",
    "import laspy\n",
    "\n",
    "import os\n",
    "import sys\n",
    "sys.path.insert(0, \"../src\")\n",
    "from fourdgeo import projection\n",
    "from fourdgeo import utilities\n",
    "from fourdgeo import change"
   ]
  },
  {
   "cell_type": "markdown",
   "id": "5c2a9c39",
   "metadata": {},
   "source": [
    "## Getting the data"
   ]
  },
  {
   "cell_type": "code",
   "execution_count": 2,
   "id": "a156fcb0",
   "metadata": {},
   "outputs": [],
   "source": [
    "import os\n",
    "import zipfile, urllib.request, shutil\n",
    "\n",
    "data_url = \"https://heibox.uni-heidelberg.de/f/de3dc527cb3f478f896e/?dl=1\"\n",
    "file_name = \"branch_evolution.zip\"\n",
    "\n",
    "with urllib.request.urlopen(data_url) as response, open(file_name, 'wb') as out_file:\n",
    "    shutil.copyfileobj(response, out_file)\n",
    "with zipfile.ZipFile(file_name, 'r') as zip_ref:\n",
    "    zip_ref.extractall(\"data\")\n",
    "\n",
    "# Deleting the .zip file\n",
    "os.remove(file_name)"
   ]
  },
  {
   "cell_type": "markdown",
   "id": "c0fdfe47",
   "metadata": {},
   "source": [
    "## Overview of the data\n",
    "\n",
    "Let's first get an overview of the input data. We visualize the point clouds of the first and last scan side by side with `pyvista`, coloured by height.\n",
    "\n",
    "Use the `ctrl` and `shift` keys to interact with the point cloud."
   ]
  },
  {
   "cell_type": "code",
   "execution_count": 3,
   "id": "8c99a985",
   "metadata": {},
   "outputs": [],
   "source": [
    "laz_files_branches = list(Path(\"data\").glob(\"*_branch.laz\"))\n",
    "laz_files_rest = list(Path(\"data\").glob(\"*_rest.laz\"))\n",
    "\n",
    "las_b0 = laspy.read(laz_files_branches[0])\n",
    "pc_b0 = np.c_[las_b0.x, las_b0.y, las_b0.z]\n",
    "las_b6 = laspy.read(laz_files_branches[6])\n",
    "pc_b6 = np.c_[las_b6.x, las_b6.y, las_b6.z]\n",
    "las_r0 = laspy.read(laz_files_rest[0])\n",
    "pc_r0 = np.c_[las_r0.x, las_r0.y, las_r0.z]\n",
    "las_r6 = laspy.read(laz_files_rest[6])\n",
    "pc_r6 = np.c_[las_r6.x, las_r6.y, las_r6.z]\n",
    "\n",
    "if visualization:\n",
    "    pl = pv.Plotter(notebook=True, shape=(1, 2))\n",
    "    pl.add_points(pc_b0[::5], scalars = pc_b0[::5, 2], point_size=3, render_points_as_spheres=True)\n",
    "    pl.add_points(pc_r0[::5], scalars = pc_r0[::5, 2], point_size=3, render_points_as_spheres=True)\n",
    "    pl.add_text(\"27 March 2025\", position='upper_left', font_size=10, color='black')\n",
    "    pl.subplot(0, 1)\n",
    "    pl.add_points(pc_b6[::5], scalars = pc_b6[::5, 2], point_size=3, render_points_as_spheres=True)\n",
    "    pl.add_points(pc_r6[::5], scalars = pc_r6[::5, 2], point_size=3, render_points_as_spheres=True)\n",
    "    pl.add_text(\"09 May 2025\", position='upper_left', font_size=10, color='black')\n",
    "\n",
    "    pl.link_views()\n",
    "    pl.remove_scalar_bar()\n",
    "    pl.camera_position = 'xz'\n",
    "    pl.camera.zoom(2)\n",
    "    pl.show()"
   ]
  },
  {
   "cell_type": "markdown",
   "id": "6ea6fb9b",
   "metadata": {},
   "source": [
    "The motion vectors have been computed with [PlantMove](https://doi.org/10.1016/j.jag.2022.102781) for each point in a selected branch in the point cloud. They are stored in a .npz archive. Let's look at the structure for the first observation (change between first epoch on 27 March and second epoch on 4 April 2025).\n",
    "\n",
    "`cloud_x` is the first time step, \\\n",
    "`cloud_y` is the second time step, \\\n",
    "`motionfield` is the derived motion field \\\n",
    "and `cloud_new` is the point cloud of the second time step registered onto the first time step by applying the motion vectors."
   ]
  },
  {
   "cell_type": "code",
   "execution_count": 4,
   "id": "3a431502",
   "metadata": {},
   "outputs": [],
   "source": [
    "\n",
    "files = list(Path(\"data\").glob(\"*.npz\"))\n",
    "obs_file = files[0]\n",
    "data = np.load(obs_file)\n",
    "cloud_x = data[\"x_original\"]  # t0\n",
    "cloud_y = data[\"y_original\"]  # t1\n",
    "cloud_new = data[\"y_new\"]  # t1 to t0\n",
    "motionfield = data[\"motionfield\"]  # motion field from t0 to t1\n",
    "motion_vec = motionfield[:, 3:6]\n",
    "motion_magnitudes = np.linalg.norm(motion_vec, axis=1)"
   ]
  },
  {
   "cell_type": "code",
   "execution_count": 5,
   "id": "4af4f4e8",
   "metadata": {},
   "outputs": [
    {
     "name": "stdout",
     "output_type": "stream",
     "text": [
      "Motion magnitudes between t0 and t1:\n",
      "\n",
      "Min:                 0.000 m\n",
      "Max:                 0.118 m\n",
      "Mean:                0.066 m\n",
      "Standard deviation:  0.025 m\n"
     ]
    }
   ],
   "source": [
    "print(\"Motion magnitudes between t0 and t1:\\n\")\n",
    "print(f\"{'Min:':20} {motion_magnitudes.min():.3f} m\")\n",
    "print(f\"{'Max:':20} {motion_magnitudes.max():.3f} m\")\n",
    "print(f\"{'Mean:':20} {motion_magnitudes.mean():.3f} m\")\n",
    "print(f\"{'Standard deviation:':20} {motion_magnitudes.std():.3f} m\")\n"
   ]
  },
  {
   "cell_type": "markdown",
   "id": "b850637b",
   "metadata": {},
   "source": [
    "## Projecting the point clouds onto 2D images\n",
    "\n",
    "For each observation, we create a 2D image of the point cloud by projecting the 3D points onto a 2D plane from the viewpoint of the scanner."
   ]
  },
  {
   "cell_type": "markdown",
   "id": "ada73720",
   "metadata": {},
   "source": [
    "### Prepare the configuration file"
   ]
  },
  {
   "cell_type": "code",
   "execution_count": 6,
   "id": "3a4a2b44",
   "metadata": {},
   "outputs": [],
   "source": [
    "configuration = {\n",
    "    \"project_setting\": {\n",
    "        \"project_name\": \"Branch_evolution\",\n",
    "        \"output_folder\": \"./out\",\n",
    "        \"temporal_format\": \"%y%m%d_%H%M%S\",\n",
    "        \"silent_mode\": True,\n",
    "        \"include_timestamp\": False\n",
    "    },\n",
    "    \"vapc_settings\": {\n",
    "        \"vapc_config\": {\n",
    "            \"voxel_size\": 6,\n",
    "            \"origin\": [\n",
    "                0,\n",
    "                0,\n",
    "                0\n",
    "            ],\n",
    "            \"attributes\": {},\n",
    "            \"filter\": {\n",
    "                \"filter_attribute\": \"point_count\",\n",
    "                \"min_max_eq\": \"greater_than\",\n",
    "                \"filter_value\": 30\n",
    "            },\n",
    "            \"compute\": [],\n",
    "            \"return_at\": \"center_of_gravity\"\n",
    "        },\n",
    "        \"bi_temporal_vapc_config\": {\n",
    "            \"signicance_threshold\": 0.999\n",
    "        },\n",
    "        \"vapc_mask\": {\n",
    "            \"buffer_size\": 0\n",
    "        }\n",
    "    },\n",
    "    \"m3c2_settings\": {\n",
    "        \"corepoints\": {\n",
    "            \"use\": False,\n",
    "            \"point_spacing_m\": 1\n",
    "        },\n",
    "        \"m3c2\": {\n",
    "            \"normal_radii\": [\n",
    "                1\n",
    "            ],\n",
    "            \"cyl_radii\": 1,\n",
    "            \"max_distance\": 10.0,\n",
    "            \"registration_error\": 0.02\n",
    "        }\n",
    "    },\n",
    "    \"cluster_settings\": {\n",
    "        \"cluster_method\": \"DBSCAN\",\n",
    "        \"distance_threshold\": 2,\n",
    "        \"cluster_by\": [\n",
    "            \"X\",\n",
    "            \"Y\",\n",
    "            \"Z\"\n",
    "        ],\n",
    "        \"min_cluster_size\": 100\n",
    "    },\n",
    "    \"pc_projection\": {\n",
    "        \"pc_path\": \"\",\n",
    "        \"make_range_image\": False,\n",
    "        \"make_color_image\": True,\n",
    "        \"top_view\": False,\n",
    "        \"save_rot_pc\": False,\n",
    "        \"resolution_cm\": 0.2,\n",
    "        \"camera_position\": [\n",
    "            475923.4099,\n",
    "            5473923.7662,\n",
    "            159.1088\n",
    "        ],\n",
    "        \"rgb_light_intensity\": 100,\n",
    "        \"range_light_intensity\": 60,\n",
    "        \"epsg\": None\n",
    "    }\n",
    "}"
   ]
  },
  {
   "cell_type": "markdown",
   "id": "481e66b2",
   "metadata": {},
   "source": [
    "### Merging each branch with its respective tree"
   ]
  },
  {
   "cell_type": "code",
   "execution_count": 7,
   "id": "5195a01c",
   "metadata": {},
   "outputs": [],
   "source": [
    "from vapc.las_split_append_merge import las_merge\n",
    "\n",
    "laz_files_rest = sorted(laz_files_rest)\n",
    "laz_files_branches = sorted(laz_files_branches)\n",
    "\n",
    "pcs = []\n",
    "\n",
    "for enum in np.arange(len(laz_files_rest)-1):\n",
    "    pos = str(laz_files_rest[enum]).find(\"_icp_rest\")\n",
    "    new_file_path = str(laz_files_rest[enum])[:pos]\n",
    "    with laspy.open(laz_files_branches[enum]) as las_branch_A:\n",
    "        las_branch_A = las_branch_A.read()\n",
    "        las_branch_A.red = np.full(len(las_branch_A.points), 65535)\n",
    "        las_branch_A.green = np.full(len(las_branch_A.points), 22768)\n",
    "        las_branch_A.blue = np.full(len(las_branch_A.points), 0)\n",
    "        las_branch_A.write(laz_files_branches[enum])\n",
    "\n",
    "    with laspy.open(laz_files_branches[enum+1]) as las_branch_B:\n",
    "        las_branch_B = las_branch_B.read()\n",
    "        las_branch_B.red = np.full(len(las_branch_B.points), 0)\n",
    "        las_branch_B.green = np.full(len(las_branch_B.points), 0)\n",
    "        las_branch_B.blue = np.full(len(las_branch_B.points), 65535)\n",
    "        las_branch_B.write(laz_files_branches[enum+1])\n",
    "\n",
    "    with laspy.open(laz_files_rest[enum]) as las_rest_A:\n",
    "        las_rest_A = las_rest_A.read()\n",
    "        intensities = las_rest_A.intensity\n",
    "\n",
    "        # Normalize intensities to 0-65535\n",
    "        norm = (intensities - intensities.min()) / (np.ptp(intensities) + 1e-8)\n",
    "        colors = (norm * 65535).astype(np.uint16)\n",
    "\n",
    "        # Assign grayscale color based on intensity\n",
    "        las_rest_A.red = las_rest_A.green = las_rest_A.blue = colors\n",
    "        las_rest_A.write(laz_files_rest[enum])\n",
    "\n",
    "    las_merge([laz_files_rest[enum], laz_files_branches[enum], laz_files_branches[enum+1]], f\"{new_file_path}_{enum}_{enum+1}.laz\", point_source_id=True)\n",
    "    pcs.append(f\"{new_file_path}_{enum}_{enum+1}.laz\")"
   ]
  },
  {
   "cell_type": "markdown",
   "id": "a5e78426",
   "metadata": {},
   "source": [
    "### Generating the background images"
   ]
  },
  {
   "cell_type": "code",
   "execution_count": 8,
   "id": "c2a16b89",
   "metadata": {},
   "outputs": [],
   "source": [
    "images = []\n",
    "\n",
    "for enum, pc in enumerate(pcs):\n",
    "    lf = laspy.read(pc)\n",
    "    configuration['pc_projection']['pc_path'] = pc\n",
    "    # Second projection (use reference)\n",
    "    background_projection = projection.PCloudProjection(\n",
    "        configuration = configuration,\n",
    "        project_name = configuration['project_setting']['project_name'],\n",
    "        projected_image_folder = configuration['project_setting']['output_folder'],\n",
    "    )\n",
    "\n",
    "    if enum == 0:\n",
    "        (\n",
    "            ref_h_fov, ref_v_fov, ref_anchor_point_xyz, \n",
    "            ref_h_img_res, ref_v_img_res\n",
    "        ) = background_projection.project_pc(buffer_m = 0.5)\n",
    "    else:\n",
    "        background_projection.project_pc(\n",
    "            ref_theta=ref_h_fov[0],\n",
    "            ref_phi=ref_v_fov[0],\n",
    "            ref_anchor_point_xyz=None,\n",
    "            ref_h_fov=ref_h_fov,\n",
    "            ref_v_fov=ref_v_fov,\n",
    "            ref_h_img_res=ref_h_img_res,\n",
    "            ref_v_img_res=ref_v_img_res\n",
    "        )\n",
    "\n",
    "    os.rename(\"out/Branch_evolution_ColorImage.tif\", f\"out/Branch_evolution_ColorImage_{enum}_{enum+1}.tif\")\n",
    "    images.append(f\"out/Branch_evolution_ColorImage_{enum}_{enum+1}.tif\")"
   ]
  },
  {
   "cell_type": "code",
   "execution_count": 10,
   "id": "6068c59a",
   "metadata": {},
   "outputs": [
    {
     "data": {
      "application/vnd.jupyter.widget-view+json": {
       "model_id": "ed7dbae0375e49cbb0d0e6c1717fac78",
       "version_major": 2,
       "version_minor": 0
      },
      "text/plain": [
       "interactive(children=(IntSlider(value=0, description='idx', max=5), Output()), _dom_classes=('widget-interact'…"
      ]
     },
     "metadata": {},
     "output_type": "display_data"
    },
    {
     "data": {
      "text/plain": [
       "<function __main__.show_image(idx)>"
      ]
     },
     "execution_count": 10,
     "metadata": {},
     "output_type": "execute_result"
    }
   ],
   "source": [
    "from ipywidgets import interact, widgets\n",
    "import matplotlib.pyplot as plt\n",
    "\n",
    "# Carousel display\n",
    "def show_image(idx):\n",
    "    img = plt.imread(images[idx])\n",
    "    plt.figure(figsize=(6, 12))\n",
    "    plt.imshow(img)\n",
    "    plt.axis('off')\n",
    "    plt.show()\n",
    "\n",
    "interact(show_image, idx=widgets.IntSlider(min=0, max=len(images)-1, step=1, value=0))"
   ]
  },
  {
   "cell_type": "markdown",
   "id": "7be2c204",
   "metadata": {},
   "source": [
    "## Deriving a subset of motion vectors by voxelization and projecting them to 2D image coordinates\n",
    "\n",
    "Since the visualization would be too cluttered with all motion vectors, we reduce the number of motion vectors by voxelizing the point cloud and only keeping one motion vector per voxel. We then project these motion vectors onto the 2D image plane."
   ]
  },
  {
   "cell_type": "code",
   "execution_count": null,
   "id": "9fc37ff9",
   "metadata": {},
   "outputs": [],
   "source": [
    "# Activate silent mode:\n",
    "vapc.enable_trace(False)\n",
    "vapc.enable_timeit(False)\n",
    "voxel_size = 0.05"
   ]
  },
  {
   "cell_type": "code",
   "execution_count": null,
   "id": "f4574912",
   "metadata": {},
   "outputs": [],
   "source": [
    "pl = pv.Plotter()\n",
    "pl.open_gif(\"../docs/img/branch_evolution.gif\")\n",
    "\n",
    "colors = [\"#0a2f51\", \"#0f596b\", \"#16837a\", \"#1d9a6c\", \"#56b870\", \"#99d492\", \"#deedcf\"]\n",
    "\n",
    "obs_dict = {}\n",
    "for obs_id, file in enumerate(files):\n",
    "    obs_dict[\"observation_id\"] = obs_id\n",
    "    obs_dict[\"events\"] = []\n",
    "    # extract time from filenames\n",
    "    t_min = \"_\".join(file.stem.split(\"_\")[1:3])\n",
    "    t_max = \"_\".join(file.stem.split(\"_\")[7:9])\n",
    "\n",
    "    data = np.load(file)\n",
    "    cloud_x = data[\"x_original\"]  # t0\n",
    "    cloud_y = data[\"y_original\"]  # t1\n",
    "    cloud_new = data[\"y_new\"]  # t1 to t0\n",
    "    motionfield = data[\"motionfield\"]\n",
    "    motion_vec = motionfield[:, 3:6]\n",
    "    motion_magnitudes = np.linalg.norm(motion_vec, axis=1)\n",
    "\n",
    "    if obs_id == 0:\n",
    "        min_point = np.min(cloud_x, axis=0)\n",
    "        local_origin = np.floor(min_point / 100) * 100\n",
    "    else:\n",
    "        pl.remove_actor(pv_cloud1)\n",
    "        pl.remove_actor(pv_cloud2)\n",
    "        pl.remove_actor(pv_lines)\n",
    "    \n",
    "    pv_cloud1 = pl.add_points(cloud_x, color=colors[obs_id], point_size=2, render_points_as_spheres=True)\n",
    "\n",
    "    # array to dataframe\n",
    "    df_y = pd.DataFrame(cloud_y, columns=[\"X\", \"Y\", \"Z\"])\n",
    "    df_new = pd.DataFrame(cloud_new, columns=[\"X\", \"Y\", \"Z\"])\n",
    "\n",
    "    vapc_y = vapc.Vapc(voxel_size=voxel_size, origin=local_origin.tolist())\n",
    "    vapc_y.df = df_y\n",
    "    vapc_y.compute = [\"center_of_voxel\"]\n",
    "    vapc_y.compute_requested_attributes()\n",
    "\n",
    "    vapc_new = vapc.Vapc(voxel_size=voxel_size, origin=local_origin.tolist())\n",
    "    vapc_new.df = df_new\n",
    "    vapc_new.compute = [\"center_of_voxel\"]\n",
    "    vapc_new.compute_requested_attributes()\n",
    "    \n",
    "    if obs_id == 0:\n",
    "        seed_points = np.array((vapc_new.df[\"center_x\"].values, vapc_new.df[\"center_y\"].values, vapc_new.df[\"center_z\"].values)).T\n",
    "        seed_points = np.unique(seed_points, axis=0)\n",
    "    else:\n",
    "        seed_points = pts_y_original\n",
    "    \n",
    "    # get nearest neighbours to seed points in cloud_new\n",
    "    tree_ynew = KDTree(cloud_new)\n",
    "\n",
    "    dist, idx_yn = tree_ynew.query(seed_points, k=1)\n",
    "\n",
    "    # get points\n",
    "    pts_y_original = cloud_y[idx_yn, :]\n",
    "    pts_y_new = cloud_new[idx_yn, :]\n",
    "\n",
    "    # create lines from nearest points to seed in cloud y and corresponding points in cloud x\n",
    "    lines = np.hstack((pts_y_original, pts_y_new))\n",
    "\n",
    "    # write json object for each line\n",
    "    for i in range(lines.shape[0]):\n",
    "        event_dict = {}\n",
    "        event_dict[\"event_type\"] = \"motion_vector\"\n",
    "        event_dict[\"object_id\"] = f\"{obs_id}{i:04d}\"\n",
    "        event_dict[\"t_min\"] = t_min\n",
    "        event_dict[\"t_max\"] = t_max\n",
    "        event_dict[\"epoch_id\"] = obs_id\n",
    "        event_dict[\"change_magnitude\"] = motion_magnitudes[i]\n",
    "        event_dict[\"motion_vector_points\"] = [lines[i, 0:3].tolist(),\n",
    "                                              lines[i, 3:6].tolist()]\n",
    "        obs_dict[\"events\"].append(event_dict)\n",
    "        # TODO @Will: modify as you like and project lines either here or in separate cell/loop\n",
    "\n",
    "    # reshape to 2n x 3 array\n",
    "    lines2plot = lines.reshape(-1, 3)\n",
    "\n",
    "    # plot original cloud\n",
    "    pv_cloud2 = pl.add_points(cloud_y, color=pv.Color(colors[obs_id+1]), point_size=2, render_points_as_spheres=True)\n",
    "    pv_lines = pl.add_lines(lines2plot, color='black', width=3)\n",
    "    for _ in range(5):  # to make the gif slower\n",
    "        pl.write_frame()\n",
    "pl.close()\n"
   ]
  },
  {
   "cell_type": "markdown",
   "id": "ee37f150",
   "metadata": {},
   "source": [
    "![branch_evolution.gif](img/branch_evolution.gif)"
   ]
  },
  {
   "cell_type": "markdown",
   "id": "fb942e09",
   "metadata": {},
   "source": []
  }
 ],
 "metadata": {
  "kernelspec": {
   "display_name": "4dgeo",
   "language": "python",
   "name": "python3"
  },
  "language_info": {
   "codemirror_mode": {
    "name": "ipython",
    "version": 3
   },
   "file_extension": ".py",
   "mimetype": "text/x-python",
   "name": "python",
   "nbconvert_exporter": "python",
   "pygments_lexer": "ipython3",
   "version": "3.10.18"
  }
 },
 "nbformat": 4,
 "nbformat_minor": 5
}
