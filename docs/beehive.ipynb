{
 "cells": [
  {
   "cell_type": "markdown",
   "id": "f78d270e-0241-4a4a-80d8-2a0dd38ffa54",
   "metadata": {},
   "source": [
    "# Beehive monitoring\n",
    "\n",
    "Ronald Tabernig, William Albert, Hannah Weiser, July 2025 \n",
    "\n",
    "This notebook demonstrates the preparation of a beehive monitoring example, including the bees detection workflow. The dataset contains **6 scans** captured each 40 seconds on 14 may 2025."
   ]
  },
  {
   "cell_type": "markdown",
   "id": "c3ce57fc-d59a-441a-bbcf-1586238437f0",
   "metadata": {},
   "source": [
    "## Imports"
   ]
  },
  {
   "cell_type": "code",
   "execution_count": 1,
   "id": "8be0e651",
   "metadata": {},
   "outputs": [],
   "source": [
    "import py4dgeo\n",
    "import vapc\n",
    "import laspy\n",
    "import numpy as np\n",
    "import os\n",
    "import sys\n",
    "import json\n",
    "sys.path.insert(0, \"../src\")\n",
    "from fourdgeo import projection\n",
    "from fourdgeo import utilities\n",
    "from fourdgeo import change\n",
    "\n",
    "# File import and handling\n",
    "from pathlib import Path\n",
    "import zipfile, urllib.request, shutil\n",
    "from glob import glob\n",
    "\n",
    "# Image handling\n",
    "from PIL import Image, ImageDraw, ImageFont\n",
    "from IPython.display import HTML"
   ]
  },
  {
   "cell_type": "markdown",
   "id": "625ff4c9",
   "metadata": {},
   "source": [
    "## Get the data"
   ]
  },
  {
   "cell_type": "code",
   "execution_count": 4,
   "id": "ba481409",
   "metadata": {},
   "outputs": [],
   "source": [
    "# Handle file download/reading here\n",
    "data_url = \"https://heibox.uni-heidelberg.de/f/6c2a4e6755b74d1abad0/?dl=1\"\n",
    "file_name = \"beehive.zip\"\n",
    "data_folder = \"data/beehive\"\n",
    "\n",
    "if not Path(data_folder).exists():\n",
    "    with urllib.request.urlopen(data_url) as response, open(file_name, 'wb') as out_file:\n",
    "        shutil.copyfileobj(response, out_file)\n",
    "    with zipfile.ZipFile(file_name, 'r') as zip_ref:\n",
    "        zip_ref.extractall(data_folder)\n",
    "    \n",
    "    # Deleting the .zip file\n",
    "    os.remove(file_name)"
   ]
  },
  {
   "cell_type": "markdown",
   "id": "f80e9120",
   "metadata": {},
   "source": [
    "## Bee detection\n",
    "\n",
    "### Isolate the bees"
   ]
  },
  {
   "cell_type": "code",
   "execution_count": null,
   "id": "6415cc90",
   "metadata": {},
   "outputs": [],
   "source": [
    "observations = {\"observations\": []}\n",
    "\n",
    "# Gather & sort only the .laz files\n",
    "laz_paths = list(Path(data_folder).glob(\"*.laz\"))\n",
    "laz_paths = sorted(laz_paths)\n",
    "\n",
    "voxel_size = 0.05\n",
    "\n",
    "dh_mask = vapc.DataHandler(os.path.join(data_folder, \"mask.laz\"))\n",
    "dh_mask.load_las_files()\n",
    "\n",
    "coords = dh_mask.df[[\"X\", \"Y\", \"Z\"]].to_numpy()\n",
    "distances = np.linalg.norm(coords, axis=1)\n",
    "dh_mask.df = dh_mask.df[distances <= 12].reset_index(drop=True)\n",
    "\n",
    "vp_mask = vapc.Vapc(voxel_size=voxel_size, return_at=\"center_of_voxel\")\n",
    "vp_mask.get_data_from_data_handler(dh_mask)\n",
    "# vp_mask.compute_voxel_buffer(2)\n",
    "#vp_mask.reduce_to_voxels()\n",
    "vp_mask.voxel_index = False\n",
    "\n",
    "for enum, laz_path in enumerate(laz_paths):\n",
    "    dh_epoch = vapc.DataHandler(laz_path)\n",
    "    dh_epoch.load_las_files()\n",
    "\n",
    "    coords = dh_epoch.df[[\"X\", \"Y\", \"Z\"]].to_numpy()\n",
    "    distances = np.linalg.norm(coords, axis=1)\n",
    "    dh_epoch.df = dh_epoch.df[distances <= 12].reset_index(drop=True)\n",
    "\n",
    "    vp_epoch = vapc.Vapc(voxel_size=voxel_size, return_at=\"center_of_voxel\")\n",
    "    vp_epoch.get_data_from_data_handler(dh_epoch)\n",
    "    # vp_epoch.reduce_to_voxels()\n",
    "    vp_epoch.select_by_mask(vp_mask, segment_in_or_out=\"out\")\n",
    "    dh_epoch.df = vp_epoch.df\n",
    "\n",
    "    masked_pc_path = os.path.join(f\"out/beehive/masked_{enum:02d}_vox_{int(voxel_size*1000):03d}.laz\")\n",
    "    dh_epoch.save_as_las(masked_pc_path)"
   ]
  },
  {
   "cell_type": "markdown",
   "id": "2bf80488",
   "metadata": {},
   "source": [
    "### Cluster the bees"
   ]
  },
  {
   "cell_type": "code",
   "execution_count": null,
   "id": "34ee7cc2",
   "metadata": {},
   "outputs": [],
   "source": []
  },
  {
   "cell_type": "markdown",
   "id": "a61b37c0",
   "metadata": {},
   "source": [
    "## Projections\n",
    "### Prepare the configuration file\n",
    "\n",
    "We use a configuration dictionary that contains general project settings like the `output_folder` and the relevant settings for the point cloud projection. For the projection, parameters like the `camera_position` and the `resolution_cm` are essential."
   ]
  },
  {
   "cell_type": "code",
   "execution_count": null,
   "id": "31918c97",
   "metadata": {},
   "outputs": [],
   "source": [
    "configuration = {\n",
    "    \"project_setting\": {\n",
    "        \"project_name\": \"Beehive\",\n",
    "        \"output_folder\": \"./out\",\n",
    "        \"temporal_format\": \"%y%m%d_%H%M%S\",\n",
    "        \"silent_mode\": True,\n",
    "        \"include_timestamp\": False\n",
    "    },\n",
    "    \"pc_projection\": {\n",
    "        \"pc_path\": \"\",\n",
    "        \"make_range_image\": True,\n",
    "        \"make_color_image\": False,\n",
    "        \"top_view\": False,\n",
    "        \"save_rot_pc\": False,\n",
    "        \"resolution_cm\": 12.5,\n",
    "        \"camera_position\": [\n",
    "            0.0,\n",
    "            0.0,\n",
    "            0.0\n",
    "        ],\n",
    "        \"rgb_light_intensity\": 100,\n",
    "        \"range_light_intensity\": 10,\n",
    "        \"epsg\": None\n",
    "    }\n",
    "}"
   ]
  },
  {
   "cell_type": "markdown",
   "id": "ea860316",
   "metadata": {},
   "source": [
    "### Generate the background image\n",
    "\n",
    "We now generate the background images. For this, we are using classes and functions from the `fourdgeo` library. The class `PCloudProjection` directly takes our configuration file as input and writes them into our specified `output_folder`."
   ]
  },
  {
   "cell_type": "code",
   "execution_count": null,
   "id": "bcf1dfa9",
   "metadata": {},
   "outputs": [],
   "source": []
  },
  {
   "cell_type": "markdown",
   "id": "16d14dca",
   "metadata": {},
   "source": [
    "### Project the change events onto the image background\n",
    "\n",
    "Here, we also project the change events onto the background image using the `ProjectChange` class. The `observation` GeoJSON files are written to the `output_folder`."
   ]
  },
  {
   "cell_type": "code",
   "execution_count": null,
   "id": "5a5cb321",
   "metadata": {},
   "outputs": [],
   "source": []
  },
  {
   "cell_type": "markdown",
   "id": "3ef1e149",
   "metadata": {},
   "source": [
    "### Display the bee clusters in the site\n",
    "\n",
    "We generate a GIF of the time series and display the bee clusters using the points."
   ]
  },
  {
   "cell_type": "code",
   "execution_count": null,
   "id": "c2e3ccdb",
   "metadata": {},
   "outputs": [],
   "source": []
  }
 ],
 "metadata": {
  "kernelspec": {
   "display_name": "4Dashboard",
   "language": "python",
   "name": "python3"
  },
  "language_info": {
   "codemirror_mode": {
    "name": "ipython",
    "version": 3
   },
   "file_extension": ".py",
   "mimetype": "text/x-python",
   "name": "python",
   "nbconvert_exporter": "python",
   "pygments_lexer": "ipython3",
   "version": "3.10.15"
  },
  "widgets": {
   "application/vnd.jupyter.widget-state+json": {
    "state": {},
    "version_major": 2,
    "version_minor": 0
   }
  }
 },
 "nbformat": 4,
 "nbformat_minor": 5
}
